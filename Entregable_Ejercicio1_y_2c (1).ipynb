{
 "cells": [
  {
   "cell_type": "markdown",
   "metadata": {
    "colab_type": "text",
    "id": "view-in-github"
   },
   "source": [
    "<a href=\"https://colab.research.google.com/github/DiploDatos/AnalisisyVisualizacion/blob/master/Entregable_Parte_1.ipynb\" target=\"_parent\"><img src=\"https://colab.research.google.com/assets/colab-badge.svg\" alt=\"Open In Colab\"/></a>"
   ]
  },
  {
   "cell_type": "markdown",
   "metadata": {
    "id": "LYvAOR2VzHmW"
   },
   "source": [
    "\n",
    "**Diplomatura en Ciencia de Datos, Aprendizaje Automático y sus Aplicaciones**\n",
    "\n",
    "**Edición 2021**\n",
    "\n",
    "---\n",
    "## Trabajo práctico entregable - Parte 1"
   ]
  },
  {
   "cell_type": "code",
   "execution_count": 1,
   "metadata": {
    "id": "Xwdfo7z20TUK"
   },
   "outputs": [],
   "source": [
    "import io\n",
    "import matplotlib\n",
    "import matplotlib.pyplot as plt\n",
    "import numpy\n",
    "import pandas as pd\n",
    "import seaborn\n",
    "\n",
    "seaborn.set_context('talk')"
   ]
  },
  {
   "cell_type": "markdown",
   "metadata": {
    "id": "XY2Hl-Ma07Nn"
   },
   "source": [
    "## Lectura del dataset\n"
   ]
  },
  {
   "cell_type": "code",
   "execution_count": 2,
   "metadata": {
    "id": "Vviv_sqXdR5W"
   },
   "outputs": [],
   "source": [
    "url = 'https://cs.famaf.unc.edu.ar/~mteruel/datasets/diplodatos/sysarmy_survey_2020_processed.csv'\n",
    "df = pd.read_csv(url)"
   ]
  },
  {
   "cell_type": "code",
   "execution_count": 3,
   "metadata": {
    "colab": {
     "base_uri": "https://localhost:8080/",
     "height": 297
    },
    "id": "gckNHXXLktJ4",
    "outputId": "66c64637-de04-4239-a158-ce88d604511d"
   },
   "outputs": [
    {
     "data": {
      "text/html": [
       "<div>\n",
       "<style scoped>\n",
       "    .dataframe tbody tr th:only-of-type {\n",
       "        vertical-align: middle;\n",
       "    }\n",
       "\n",
       "    .dataframe tbody tr th {\n",
       "        vertical-align: top;\n",
       "    }\n",
       "\n",
       "    .dataframe thead th {\n",
       "        text-align: right;\n",
       "    }\n",
       "</style>\n",
       "<table border=\"1\" class=\"dataframe\">\n",
       "  <thead>\n",
       "    <tr style=\"text-align: right;\">\n",
       "      <th></th>\n",
       "      <th>profile_gender</th>\n",
       "      <th>profile_age</th>\n",
       "      <th>work_country</th>\n",
       "      <th>work_province</th>\n",
       "      <th>profile_years_experience</th>\n",
       "      <th>work_years_in_company</th>\n",
       "      <th>work_years_in_current_position</th>\n",
       "      <th>work_people_in_charge_of</th>\n",
       "      <th>profile_studies_level</th>\n",
       "      <th>profile_studies_level_state</th>\n",
       "      <th>...</th>\n",
       "      <th>work_has_violence_situations</th>\n",
       "      <th>profile_sexual_orientation</th>\n",
       "      <th>profile_has_disabilities</th>\n",
       "      <th>profile_has_disabilities_hiring_difficulties</th>\n",
       "      <th>company_employee_number</th>\n",
       "      <th>company_main_activity</th>\n",
       "      <th>company_recommended</th>\n",
       "      <th>company_diversity_policies</th>\n",
       "      <th>company_extra_benefits</th>\n",
       "      <th>company_best_companies_city</th>\n",
       "    </tr>\n",
       "  </thead>\n",
       "  <tbody>\n",
       "    <tr>\n",
       "      <th>0</th>\n",
       "      <td>Mujer</td>\n",
       "      <td>26</td>\n",
       "      <td>Argentina</td>\n",
       "      <td>Ciudad Autónoma de Buenos Aires</td>\n",
       "      <td>3.0</td>\n",
       "      <td>3.0</td>\n",
       "      <td>3.0</td>\n",
       "      <td>0</td>\n",
       "      <td>Universitario</td>\n",
       "      <td>En curso</td>\n",
       "      <td>...</td>\n",
       "      <td>En mi trabajo actual</td>\n",
       "      <td>Homosexual</td>\n",
       "      <td>NaN</td>\n",
       "      <td>NaN</td>\n",
       "      <td>501-1000</td>\n",
       "      <td>Servicios / Consultoría de Software / Digital</td>\n",
       "      <td>7</td>\n",
       "      <td>2</td>\n",
       "      <td>Capacitaciones y/o cursos, Comidas pagas / sub...</td>\n",
       "      <td>NaN</td>\n",
       "    </tr>\n",
       "    <tr>\n",
       "      <th>1</th>\n",
       "      <td>Hombre</td>\n",
       "      <td>29</td>\n",
       "      <td>Argentina</td>\n",
       "      <td>Corrientes</td>\n",
       "      <td>5.0</td>\n",
       "      <td>2.0</td>\n",
       "      <td>2.0</td>\n",
       "      <td>4</td>\n",
       "      <td>Universitario</td>\n",
       "      <td>En curso</td>\n",
       "      <td>...</td>\n",
       "      <td>Jamás</td>\n",
       "      <td>Heterosexual</td>\n",
       "      <td>Visual</td>\n",
       "      <td>No</td>\n",
       "      <td>201-500</td>\n",
       "      <td>Otras industrias</td>\n",
       "      <td>8</td>\n",
       "      <td>9</td>\n",
       "      <td>Horarios flexibles, Stock options / RSUs, Viát...</td>\n",
       "      <td>NaN</td>\n",
       "    </tr>\n",
       "    <tr>\n",
       "      <th>2</th>\n",
       "      <td>Mujer</td>\n",
       "      <td>22</td>\n",
       "      <td>Argentina</td>\n",
       "      <td>Ciudad Autónoma de Buenos Aires</td>\n",
       "      <td>2.0</td>\n",
       "      <td>0.0</td>\n",
       "      <td>0.0</td>\n",
       "      <td>0</td>\n",
       "      <td>Secundario</td>\n",
       "      <td>Completado</td>\n",
       "      <td>...</td>\n",
       "      <td>En un trabajo anterior</td>\n",
       "      <td>Bisexual o queer</td>\n",
       "      <td>NaN</td>\n",
       "      <td>No</td>\n",
       "      <td>2001-5000</td>\n",
       "      <td>Otras industrias</td>\n",
       "      <td>6</td>\n",
       "      <td>9</td>\n",
       "      <td>Clases de gimnasia online, Comidas pagas / sub...</td>\n",
       "      <td>NaN</td>\n",
       "    </tr>\n",
       "    <tr>\n",
       "      <th>3</th>\n",
       "      <td>Hombre</td>\n",
       "      <td>39</td>\n",
       "      <td>Argentina</td>\n",
       "      <td>Corrientes</td>\n",
       "      <td>15.0</td>\n",
       "      <td>15.0</td>\n",
       "      <td>13.0</td>\n",
       "      <td>5</td>\n",
       "      <td>Posgrado</td>\n",
       "      <td>Incompleto</td>\n",
       "      <td>...</td>\n",
       "      <td>En mi trabajo actual</td>\n",
       "      <td>Heterosexual</td>\n",
       "      <td>NaN</td>\n",
       "      <td>NaN</td>\n",
       "      <td>501-1000</td>\n",
       "      <td>Otras industrias</td>\n",
       "      <td>7</td>\n",
       "      <td>6</td>\n",
       "      <td>Abono de celular, Capacitaciones y/o cursos, C...</td>\n",
       "      <td>NaN</td>\n",
       "    </tr>\n",
       "    <tr>\n",
       "      <th>4</th>\n",
       "      <td>Hombre</td>\n",
       "      <td>32</td>\n",
       "      <td>Argentina</td>\n",
       "      <td>Ciudad Autónoma de Buenos Aires</td>\n",
       "      <td>9.0</td>\n",
       "      <td>6.0</td>\n",
       "      <td>6.0</td>\n",
       "      <td>0</td>\n",
       "      <td>Universitario</td>\n",
       "      <td>En curso</td>\n",
       "      <td>...</td>\n",
       "      <td>Jamás</td>\n",
       "      <td>Heterosexual</td>\n",
       "      <td>NaN</td>\n",
       "      <td>NaN</td>\n",
       "      <td>11-50</td>\n",
       "      <td>Servicios / Consultoría de Software / Digital</td>\n",
       "      <td>6</td>\n",
       "      <td>6</td>\n",
       "      <td>Clases de idiomas, Horarios flexibles, Vacacio...</td>\n",
       "      <td>NaN</td>\n",
       "    </tr>\n",
       "  </tbody>\n",
       "</table>\n",
       "<p>5 rows × 48 columns</p>\n",
       "</div>"
      ],
      "text/plain": [
       "  profile_gender  profile_age work_country                    work_province  \\\n",
       "0          Mujer           26    Argentina  Ciudad Autónoma de Buenos Aires   \n",
       "1         Hombre           29    Argentina                       Corrientes   \n",
       "2          Mujer           22    Argentina  Ciudad Autónoma de Buenos Aires   \n",
       "3         Hombre           39    Argentina                       Corrientes   \n",
       "4         Hombre           32    Argentina  Ciudad Autónoma de Buenos Aires   \n",
       "\n",
       "   profile_years_experience  work_years_in_company  \\\n",
       "0                       3.0                    3.0   \n",
       "1                       5.0                    2.0   \n",
       "2                       2.0                    0.0   \n",
       "3                      15.0                   15.0   \n",
       "4                       9.0                    6.0   \n",
       "\n",
       "   work_years_in_current_position  work_people_in_charge_of  \\\n",
       "0                             3.0                         0   \n",
       "1                             2.0                         4   \n",
       "2                             0.0                         0   \n",
       "3                            13.0                         5   \n",
       "4                             6.0                         0   \n",
       "\n",
       "  profile_studies_level profile_studies_level_state  ...  \\\n",
       "0         Universitario                    En curso  ...   \n",
       "1         Universitario                    En curso  ...   \n",
       "2            Secundario                  Completado  ...   \n",
       "3              Posgrado                  Incompleto  ...   \n",
       "4         Universitario                    En curso  ...   \n",
       "\n",
       "  work_has_violence_situations profile_sexual_orientation  \\\n",
       "0         En mi trabajo actual                 Homosexual   \n",
       "1                        Jamás               Heterosexual   \n",
       "2       En un trabajo anterior           Bisexual o queer   \n",
       "3         En mi trabajo actual               Heterosexual   \n",
       "4                        Jamás               Heterosexual   \n",
       "\n",
       "  profile_has_disabilities profile_has_disabilities_hiring_difficulties  \\\n",
       "0                      NaN                                          NaN   \n",
       "1                   Visual                                           No   \n",
       "2                      NaN                                           No   \n",
       "3                      NaN                                          NaN   \n",
       "4                      NaN                                          NaN   \n",
       "\n",
       "  company_employee_number                          company_main_activity  \\\n",
       "0                501-1000  Servicios / Consultoría de Software / Digital   \n",
       "1                 201-500                               Otras industrias   \n",
       "2               2001-5000                               Otras industrias   \n",
       "3                501-1000                               Otras industrias   \n",
       "4                   11-50  Servicios / Consultoría de Software / Digital   \n",
       "\n",
       "  company_recommended company_diversity_policies  \\\n",
       "0                   7                          2   \n",
       "1                   8                          9   \n",
       "2                   6                          9   \n",
       "3                   7                          6   \n",
       "4                   6                          6   \n",
       "\n",
       "                              company_extra_benefits  \\\n",
       "0  Capacitaciones y/o cursos, Comidas pagas / sub...   \n",
       "1  Horarios flexibles, Stock options / RSUs, Viát...   \n",
       "2  Clases de gimnasia online, Comidas pagas / sub...   \n",
       "3  Abono de celular, Capacitaciones y/o cursos, C...   \n",
       "4  Clases de idiomas, Horarios flexibles, Vacacio...   \n",
       "\n",
       "  company_best_companies_city  \n",
       "0                         NaN  \n",
       "1                         NaN  \n",
       "2                         NaN  \n",
       "3                         NaN  \n",
       "4                         NaN  \n",
       "\n",
       "[5 rows x 48 columns]"
      ]
     },
     "execution_count": 3,
     "metadata": {},
     "output_type": "execute_result"
    }
   ],
   "source": [
    "#Vemos qué variables hay en nuestro dataset.\n",
    "df[:5]"
   ]
  },
  {
   "cell_type": "markdown",
   "metadata": {
    "id": "-ZSQYANFHHgV"
   },
   "source": [
    "# Ejercicio 1 - Análisis descriptivo\n",
    "\n",
    "Para este ejericio, decidimos trabajar específicamente con un grupo específico dentro de la muestra: las personas que trabajan en Data Science ¿Por qué este grupo? Porque, como futuras y futuros cientistas de datos, queremos saber si hay información suficiente para ayudarnos a decidir en qué lenguaje deberíamos enfocar nuestros aprendizajes más relevantes. \n",
    "\n",
    "A lo largo del ejercicio, mostraremos cómo identificamos dos roles relacionados a este grupo de nuestro interés y profundizamos sobre ellos. Así, nuestra pregunta es: \n",
    "\n",
    "**¿Cuáles son los lenguajes de programación asociados a los mejores salarios en el área de Data Science?**\n",
    "\n",
    "Elegimos realizar un abordaje basado en las visualizaciones, por lo cual decidimos presentar varias de ellas. \n"
   ]
  },
  {
   "cell_type": "code",
   "execution_count": 4,
   "metadata": {
    "id": "6dqTEr7cZgvl"
   },
   "outputs": [
    {
     "data": {
      "text/plain": [
       "['tools_programming_languages', 'salary_monthly_NETO', 'work_role']"
      ]
     },
     "execution_count": 4,
     "metadata": {},
     "output_type": "execute_result"
    }
   ],
   "source": [
    "# a las columnas necesarias (lenguajes y salarios) sumamos la columna de rol en el trabajo para poder filtrar nuestro grupo de interés\n",
    "relevant_columns = ['tools_programming_languages', 'salary_monthly_NETO', 'work_role']\n",
    "relevant_columns"
   ]
  },
  {
   "cell_type": "markdown",
   "metadata": {},
   "source": [
    "### Filtrado del grupo de trabajadores/as que nos interesa\n",
    "\n",
    "A continuación vemos una lista de los principales roles y seleccionamos los que nos interesa.\n",
    "Notamos que **casi la mitad de la muestra tiene roles con frecuencias iguales o menores a 4**, que no estamos abordando. \n",
    "Es posible que las personas hayan definido de un modo muy diferente roles laborales similares y que, en realidad, mayor cantidad de personas realizaran los trabajos que nos interesan. Sin embargo, el esfuerzo para la exploración y recodificación de esos datos excede los alcances de este trabajo.\n",
    "\n",
    "**De cualquier modo, debemos tener en cuenta que posiblemente estemos trabajando con solo una porción de las personas que realizan los trabajos que nos interesan**"
   ]
  },
  {
   "cell_type": "code",
   "execution_count": 5,
   "metadata": {},
   "outputs": [
    {
     "data": {
      "text/plain": [
       "Developer                         2402\n",
       "SysAdmin / DevOps / SRE            689\n",
       "Technical Leader                   399\n",
       "QA / Tester                        254\n",
       "Manager / Director                 231\n",
       "HelpDesk                           198\n",
       "Project Manager                    193\n",
       "Architect                          175\n",
       "Data Scientist / Data Engineer     140\n",
       "Consultant                         139\n",
       "BI Analyst / Data Analyst          135\n",
       "Networking                         132\n",
       "Business Analyst                   111\n",
       "UX                                  95\n",
       "Infosec                             85\n",
       "Recruiter / HR                      55\n",
       "Designer                            54\n",
       "DBA                                 52\n",
       "Product Manager                     50\n",
       "Scrum Master                        48\n",
       "VP / C-Level                        36\n",
       "Sales / Pre-Sales                   27\n",
       "Middleware                          22\n",
       "Finance                             14\n",
       "Storage / Backup                    10\n",
       "NLP                                  6\n",
       "Technical Writer                     6\n",
       "Analista Funcional                   5\n",
       "Software Engineer                    5\n",
       "DevOps                               4\n",
       "Name: work_role, dtype: int64"
      ]
     },
     "execution_count": 5,
     "metadata": {},
     "output_type": "execute_result"
    }
   ],
   "source": [
    "#Vamos a ver qué roles laborales hay en nuestro df. Pedimos una lista de 30 porque queremos un panorama de los más frecuentes.\n",
    "role_count = df.work_role.value_counts()\n",
    "role_count[:30]"
   ]
  },
  {
   "cell_type": "markdown",
   "metadata": {},
   "source": [
    "En la celda anterior encontramos dos roles que nos interesan: **Data Scientist / Data Engineer y BI Analyst / Data Analyst**.\n",
    "Si bien refieren a distintos trabajos, con distintos enfoques y niveles de especificidad, ambos perfiles **aplican técnicas de data science y trabajan sobre datos**. \n",
    "\n",
    "Hay otros roles que también podrían trabajar principalmente sobre datos, pero no podemos estar seguras sobre el rol (por ejemplo: Business Analyst) y es posible que el perfil se base más en habilidades distintas de las técnicas. "
   ]
  },
  {
   "cell_type": "code",
   "execution_count": 6,
   "metadata": {},
   "outputs": [
    {
     "data": {
      "text/html": [
       "<div>\n",
       "<style scoped>\n",
       "    .dataframe tbody tr th:only-of-type {\n",
       "        vertical-align: middle;\n",
       "    }\n",
       "\n",
       "    .dataframe tbody tr th {\n",
       "        vertical-align: top;\n",
       "    }\n",
       "\n",
       "    .dataframe thead th {\n",
       "        text-align: right;\n",
       "    }\n",
       "</style>\n",
       "<table border=\"1\" class=\"dataframe\">\n",
       "  <thead>\n",
       "    <tr style=\"text-align: right;\">\n",
       "      <th></th>\n",
       "      <th>profile_gender</th>\n",
       "      <th>profile_age</th>\n",
       "      <th>work_country</th>\n",
       "      <th>work_province</th>\n",
       "      <th>profile_years_experience</th>\n",
       "      <th>work_years_in_company</th>\n",
       "      <th>work_years_in_current_position</th>\n",
       "      <th>work_people_in_charge_of</th>\n",
       "      <th>profile_studies_level</th>\n",
       "      <th>profile_studies_level_state</th>\n",
       "      <th>...</th>\n",
       "      <th>work_has_violence_situations</th>\n",
       "      <th>profile_sexual_orientation</th>\n",
       "      <th>profile_has_disabilities</th>\n",
       "      <th>profile_has_disabilities_hiring_difficulties</th>\n",
       "      <th>company_employee_number</th>\n",
       "      <th>company_main_activity</th>\n",
       "      <th>company_recommended</th>\n",
       "      <th>company_diversity_policies</th>\n",
       "      <th>company_extra_benefits</th>\n",
       "      <th>company_best_companies_city</th>\n",
       "    </tr>\n",
       "  </thead>\n",
       "  <tbody>\n",
       "    <tr>\n",
       "      <th>19</th>\n",
       "      <td>Hombre</td>\n",
       "      <td>26</td>\n",
       "      <td>Argentina</td>\n",
       "      <td>Ciudad Autónoma de Buenos Aires</td>\n",
       "      <td>3.0</td>\n",
       "      <td>1.0</td>\n",
       "      <td>1.0</td>\n",
       "      <td>0</td>\n",
       "      <td>Terciario</td>\n",
       "      <td>Completado</td>\n",
       "      <td>...</td>\n",
       "      <td>Jamás</td>\n",
       "      <td>Heterosexual</td>\n",
       "      <td>NaN</td>\n",
       "      <td>No</td>\n",
       "      <td>201-500</td>\n",
       "      <td>Producto basado en Software</td>\n",
       "      <td>8</td>\n",
       "      <td>6</td>\n",
       "      <td>Capacitaciones y/o cursos, Clases de gimnasia ...</td>\n",
       "      <td>Medallia, Jamp, Wildlife Studios, MongoDB</td>\n",
       "    </tr>\n",
       "    <tr>\n",
       "      <th>33</th>\n",
       "      <td>Hombre</td>\n",
       "      <td>35</td>\n",
       "      <td>Argentina</td>\n",
       "      <td>Ciudad Autónoma de Buenos Aires</td>\n",
       "      <td>12.0</td>\n",
       "      <td>4.0</td>\n",
       "      <td>0.0</td>\n",
       "      <td>0</td>\n",
       "      <td>Universitario</td>\n",
       "      <td>Incompleto</td>\n",
       "      <td>...</td>\n",
       "      <td>Jamás</td>\n",
       "      <td>Heterosexual</td>\n",
       "      <td>NaN</td>\n",
       "      <td>No</td>\n",
       "      <td>11-50</td>\n",
       "      <td>Producto basado en Software</td>\n",
       "      <td>5</td>\n",
       "      <td>3</td>\n",
       "      <td>Clases de idiomas, Horarios flexibles</td>\n",
       "      <td>NaN</td>\n",
       "    </tr>\n",
       "    <tr>\n",
       "      <th>57</th>\n",
       "      <td>Hombre</td>\n",
       "      <td>32</td>\n",
       "      <td>Argentina</td>\n",
       "      <td>Ciudad Autónoma de Buenos Aires</td>\n",
       "      <td>11.0</td>\n",
       "      <td>1.0</td>\n",
       "      <td>1.0</td>\n",
       "      <td>3</td>\n",
       "      <td>Universitario</td>\n",
       "      <td>Completado</td>\n",
       "      <td>...</td>\n",
       "      <td>En un trabajo anterior</td>\n",
       "      <td>Heterosexual</td>\n",
       "      <td>NaN</td>\n",
       "      <td>No</td>\n",
       "      <td>11-50</td>\n",
       "      <td>Servicios / Consultoría de Software / Digital</td>\n",
       "      <td>9</td>\n",
       "      <td>8</td>\n",
       "      <td>Capacitaciones y/o cursos, Vacaciones flexible...</td>\n",
       "      <td>NaN</td>\n",
       "    </tr>\n",
       "    <tr>\n",
       "      <th>82</th>\n",
       "      <td>Hombre</td>\n",
       "      <td>40</td>\n",
       "      <td>Argentina</td>\n",
       "      <td>Ciudad Autónoma de Buenos Aires</td>\n",
       "      <td>4.0</td>\n",
       "      <td>0.0</td>\n",
       "      <td>0.0</td>\n",
       "      <td>0</td>\n",
       "      <td>Posgrado</td>\n",
       "      <td>Incompleto</td>\n",
       "      <td>...</td>\n",
       "      <td>Jamás</td>\n",
       "      <td>Heterosexual</td>\n",
       "      <td>NaN</td>\n",
       "      <td>NaN</td>\n",
       "      <td>51-100</td>\n",
       "      <td>Servicios / Consultoría de Software / Digital</td>\n",
       "      <td>10</td>\n",
       "      <td>10</td>\n",
       "      <td>Capacitaciones y/o cursos, Clases de gimnasia ...</td>\n",
       "      <td>Data IQ, Rocking Data</td>\n",
       "    </tr>\n",
       "    <tr>\n",
       "      <th>199</th>\n",
       "      <td>Hombre</td>\n",
       "      <td>25</td>\n",
       "      <td>Argentina</td>\n",
       "      <td>Ciudad Autónoma de Buenos Aires</td>\n",
       "      <td>2.0</td>\n",
       "      <td>2.0</td>\n",
       "      <td>0.0</td>\n",
       "      <td>2</td>\n",
       "      <td>Universitario</td>\n",
       "      <td>Completado</td>\n",
       "      <td>...</td>\n",
       "      <td>Jamás</td>\n",
       "      <td>Heterosexual</td>\n",
       "      <td>NaN</td>\n",
       "      <td>NaN</td>\n",
       "      <td>51-100</td>\n",
       "      <td>Servicios / Consultoría de Software / Digital</td>\n",
       "      <td>9</td>\n",
       "      <td>10</td>\n",
       "      <td>Abono de Internet, Capacitaciones y/o cursos, ...</td>\n",
       "      <td>NaN</td>\n",
       "    </tr>\n",
       "  </tbody>\n",
       "</table>\n",
       "<p>5 rows × 48 columns</p>\n",
       "</div>"
      ],
      "text/plain": [
       "    profile_gender  profile_age work_country                    work_province  \\\n",
       "19          Hombre           26    Argentina  Ciudad Autónoma de Buenos Aires   \n",
       "33          Hombre           35    Argentina  Ciudad Autónoma de Buenos Aires   \n",
       "57          Hombre           32    Argentina  Ciudad Autónoma de Buenos Aires   \n",
       "82          Hombre           40    Argentina  Ciudad Autónoma de Buenos Aires   \n",
       "199         Hombre           25    Argentina  Ciudad Autónoma de Buenos Aires   \n",
       "\n",
       "     profile_years_experience  work_years_in_company  \\\n",
       "19                        3.0                    1.0   \n",
       "33                       12.0                    4.0   \n",
       "57                       11.0                    1.0   \n",
       "82                        4.0                    0.0   \n",
       "199                       2.0                    2.0   \n",
       "\n",
       "     work_years_in_current_position  work_people_in_charge_of  \\\n",
       "19                              1.0                         0   \n",
       "33                              0.0                         0   \n",
       "57                              1.0                         3   \n",
       "82                              0.0                         0   \n",
       "199                             0.0                         2   \n",
       "\n",
       "    profile_studies_level profile_studies_level_state  ...  \\\n",
       "19              Terciario                  Completado  ...   \n",
       "33          Universitario                  Incompleto  ...   \n",
       "57          Universitario                  Completado  ...   \n",
       "82               Posgrado                  Incompleto  ...   \n",
       "199         Universitario                  Completado  ...   \n",
       "\n",
       "    work_has_violence_situations profile_sexual_orientation  \\\n",
       "19                         Jamás               Heterosexual   \n",
       "33                         Jamás               Heterosexual   \n",
       "57        En un trabajo anterior               Heterosexual   \n",
       "82                         Jamás               Heterosexual   \n",
       "199                        Jamás               Heterosexual   \n",
       "\n",
       "    profile_has_disabilities profile_has_disabilities_hiring_difficulties  \\\n",
       "19                       NaN                                           No   \n",
       "33                       NaN                                           No   \n",
       "57                       NaN                                           No   \n",
       "82                       NaN                                          NaN   \n",
       "199                      NaN                                          NaN   \n",
       "\n",
       "    company_employee_number                          company_main_activity  \\\n",
       "19                  201-500                    Producto basado en Software   \n",
       "33                    11-50                    Producto basado en Software   \n",
       "57                    11-50  Servicios / Consultoría de Software / Digital   \n",
       "82                   51-100  Servicios / Consultoría de Software / Digital   \n",
       "199                  51-100  Servicios / Consultoría de Software / Digital   \n",
       "\n",
       "    company_recommended company_diversity_policies  \\\n",
       "19                    8                          6   \n",
       "33                    5                          3   \n",
       "57                    9                          8   \n",
       "82                   10                         10   \n",
       "199                   9                         10   \n",
       "\n",
       "                                company_extra_benefits  \\\n",
       "19   Capacitaciones y/o cursos, Clases de gimnasia ...   \n",
       "33               Clases de idiomas, Horarios flexibles   \n",
       "57   Capacitaciones y/o cursos, Vacaciones flexible...   \n",
       "82   Capacitaciones y/o cursos, Clases de gimnasia ...   \n",
       "199  Abono de Internet, Capacitaciones y/o cursos, ...   \n",
       "\n",
       "                   company_best_companies_city  \n",
       "19   Medallia, Jamp, Wildlife Studios, MongoDB  \n",
       "33                                         NaN  \n",
       "57                                         NaN  \n",
       "82                       Data IQ, Rocking Data  \n",
       "199                                        NaN  \n",
       "\n",
       "[5 rows x 48 columns]"
      ]
     },
     "execution_count": 6,
     "metadata": {},
     "output_type": "execute_result"
    }
   ],
   "source": [
    "#En función de lo anterior, creamos un nuevo df donde ya seleccionamos los roles que nos interesan\n",
    "interesting_role = [\"Data Scientist / Data Engineer\", \"BI Analyst / Data Analyst\"]\n",
    "df_role = df[df.work_role.isin(interesting_role)]\n",
    "df_role[:5]"
   ]
  },
  {
   "cell_type": "markdown",
   "metadata": {
    "id": "OoGgzMvuEocM"
   },
   "source": [
    "### Conteo de frecuencias de los lenguajes de programación\n",
    "\n",
    "La columna que contiene información sobre los lenguajes de programación utilizados es `tools_programming_languages`. Sus valores son strings con los lenguajes seleccionados separados por comas.\n",
    "\n"
   ]
  },
  {
   "cell_type": "code",
   "execution_count": 7,
   "metadata": {
    "colab": {
     "base_uri": "https://localhost:8080/"
    },
    "id": "J7AB2Ty8SvNl",
    "outputId": "cb0ee28d-5c7f-4ed5-cf32-f4fddce64eb7"
   },
   "outputs": [
    {
     "data": {
      "text/plain": [
       "19    Python, Scala, SQL\n",
       "33    Bash/Shell, Python\n",
       "57                   SQL\n",
       "Name: tools_programming_languages, dtype: object"
      ]
     },
     "execution_count": 7,
     "metadata": {},
     "output_type": "execute_result"
    }
   ],
   "source": [
    "#acá se observa la principal dificultad que tenemos con este data set: muchas personas usan más de un lenguaje de programación\n",
    "#además, estos son strings.\n",
    "df_role.tools_programming_languages[:3]"
   ]
  },
  {
   "cell_type": "markdown",
   "metadata": {
    "id": "l8bYmvMhSroH"
   },
   "source": [
    "Las siguientes celdas de código separan estos lenguajes de programación y cuentan la frecuencia con la que aparecen.\n",
    "\n",
    "No es necesario entender este código en profundidad, aunque sí es un buen ejercicio.\n",
    "\n",
    "**sobre este código no trabajamos, solo lo corrimos sobre nuestro df filtrado por work_role**\n"
   ]
  },
  {
   "cell_type": "code",
   "execution_count": 8,
   "metadata": {
    "colab": {
     "base_uri": "https://localhost:8080/",
     "height": 223
    },
    "id": "PAQ81x3iUP_N",
    "outputId": "690186ea-5c29-4fb8-b06c-2ff8c3de7c71"
   },
   "outputs": [
    {
     "name": "stderr",
     "output_type": "stream",
     "text": [
      "C:\\Users\\Sofia\\Anaconda3\\lib\\site-packages\\pandas\\core\\indexing.py:362: SettingWithCopyWarning: \n",
      "A value is trying to be set on a copy of a slice from a DataFrame.\n",
      "Try using .loc[row_indexer,col_indexer] = value instead\n",
      "\n",
      "See the caveats in the documentation: http://pandas.pydata.org/pandas-docs/stable/indexing.html#indexing-view-versus-copy\n",
      "  self.obj[key] = _infer_fill_value(value)\n",
      "C:\\Users\\Sofia\\Anaconda3\\lib\\site-packages\\pandas\\core\\indexing.py:543: SettingWithCopyWarning: \n",
      "A value is trying to be set on a copy of a slice from a DataFrame.\n",
      "Try using .loc[row_indexer,col_indexer] = value instead\n",
      "\n",
      "See the caveats in the documentation: http://pandas.pydata.org/pandas-docs/stable/indexing.html#indexing-view-versus-copy\n",
      "  self.obj[item] = s\n"
     ]
    },
    {
     "data": {
      "text/html": [
       "<div>\n",
       "<style scoped>\n",
       "    .dataframe tbody tr th:only-of-type {\n",
       "        vertical-align: middle;\n",
       "    }\n",
       "\n",
       "    .dataframe tbody tr th {\n",
       "        vertical-align: top;\n",
       "    }\n",
       "\n",
       "    .dataframe thead th {\n",
       "        text-align: right;\n",
       "    }\n",
       "</style>\n",
       "<table border=\"1\" class=\"dataframe\">\n",
       "  <thead>\n",
       "    <tr style=\"text-align: right;\">\n",
       "      <th></th>\n",
       "      <th>programming_language</th>\n",
       "      <th>tools_programming_languages</th>\n",
       "      <th>salary_monthly_NETO</th>\n",
       "      <th>work_role</th>\n",
       "      <th>cured_programming_languages</th>\n",
       "    </tr>\n",
       "  </thead>\n",
       "  <tbody>\n",
       "    <tr>\n",
       "      <th>19</th>\n",
       "      <td>python</td>\n",
       "      <td>Python, Scala, SQL</td>\n",
       "      <td>68000.0</td>\n",
       "      <td>Data Scientist / Data Engineer</td>\n",
       "      <td>[python, scala, sql]</td>\n",
       "    </tr>\n",
       "    <tr>\n",
       "      <th>19</th>\n",
       "      <td>scala</td>\n",
       "      <td>Python, Scala, SQL</td>\n",
       "      <td>68000.0</td>\n",
       "      <td>Data Scientist / Data Engineer</td>\n",
       "      <td>[python, scala, sql]</td>\n",
       "    </tr>\n",
       "    <tr>\n",
       "      <th>19</th>\n",
       "      <td>sql</td>\n",
       "      <td>Python, Scala, SQL</td>\n",
       "      <td>68000.0</td>\n",
       "      <td>Data Scientist / Data Engineer</td>\n",
       "      <td>[python, scala, sql]</td>\n",
       "    </tr>\n",
       "    <tr>\n",
       "      <th>33</th>\n",
       "      <td>bash/shell</td>\n",
       "      <td>Bash/Shell, Python</td>\n",
       "      <td>168000.0</td>\n",
       "      <td>Data Scientist / Data Engineer</td>\n",
       "      <td>[bash/shell, python]</td>\n",
       "    </tr>\n",
       "    <tr>\n",
       "      <th>33</th>\n",
       "      <td>python</td>\n",
       "      <td>Bash/Shell, Python</td>\n",
       "      <td>168000.0</td>\n",
       "      <td>Data Scientist / Data Engineer</td>\n",
       "      <td>[bash/shell, python]</td>\n",
       "    </tr>\n",
       "  </tbody>\n",
       "</table>\n",
       "</div>"
      ],
      "text/plain": [
       "   programming_language tools_programming_languages  salary_monthly_NETO  \\\n",
       "19               python          Python, Scala, SQL              68000.0   \n",
       "19                scala          Python, Scala, SQL              68000.0   \n",
       "19                  sql          Python, Scala, SQL              68000.0   \n",
       "33           bash/shell          Bash/Shell, Python             168000.0   \n",
       "33               python          Bash/Shell, Python             168000.0   \n",
       "\n",
       "                         work_role cured_programming_languages  \n",
       "19  Data Scientist / Data Engineer        [python, scala, sql]  \n",
       "19  Data Scientist / Data Engineer        [python, scala, sql]  \n",
       "19  Data Scientist / Data Engineer        [python, scala, sql]  \n",
       "33  Data Scientist / Data Engineer        [bash/shell, python]  \n",
       "33  Data Scientist / Data Engineer        [bash/shell, python]  "
      ]
     },
     "execution_count": 8,
     "metadata": {},
     "output_type": "execute_result"
    }
   ],
   "source": [
    "# Convert the comma-separated string of languages to a list of string.\n",
    "# Remove 'ninguno de los anteriores' option, spaces and training commas.\n",
    "def split_languages(languages_str):\n",
    "  if not isinstance(languages_str, str):\n",
    "    return []\n",
    "  # Remove 'other' option\n",
    "  languages_str = languages_str.lower()\\\n",
    "    .replace('ninguno de los anteriores', '')\n",
    "  # Split string into list of items\n",
    "  # Remove spaces and commas for each item\n",
    "  return [lang.strip().replace(',', '')\n",
    "          for lang in languages_str.split()]\n",
    "\n",
    "# Create a new column with the list of languages\n",
    "df_role.loc[:, 'cured_programming_languages'] = df_role.tools_programming_languages\\\n",
    "    .apply(split_languages)\n",
    "if 'cured_programming_languages' not in relevant_columns:\n",
    "    relevant_columns.append('cured_programming_languages') \n",
    "\n",
    "# Duplicate each row of df for each programming language\n",
    "# mentioned in the response.\n",
    "# We only include in df_lang the columns we are going to analyze later, so we\n",
    "# don't duplicate innecesary information.\n",
    "df_lang = df_role.cured_programming_languages\\\n",
    "    .apply(pd.Series).stack()\\\n",
    "    .reset_index(level=-1, drop=True).to_frame()\\\n",
    "    .join(df_role[relevant_columns])\\\n",
    "    .rename(columns={0: 'programming_language'})\n",
    "# Horrible programming style! But a lot of data science code can be written with\n",
    "# as concatenations of functions (pipelines), and there's no elegant way of\n",
    "# doing that on Python.\n",
    "df_lang[:5]"
   ]
  },
  {
   "cell_type": "markdown",
   "metadata": {
    "id": "qm8NUg-7UEue"
   },
   "source": [
    "En la columna `programming_language` se encuentra cada lenguaje por separado. Notar que si una respuesta contenía 3 lenguajes, como `\"HTML, Javascript, Python\"`, la fila ha sido replicada 3 veces. Por ello, hay tres filas con índice 1."
   ]
  },
  {
   "cell_type": "markdown",
   "metadata": {
    "id": "nThbJ1KeUgDo"
   },
   "source": [
    "## Filtrado de lenguajes relevantes\n",
    "\n",
    "El siguiente código permite seleccionar sólo las filas donde el valor de la columna `programming_language` se encuentre en la lista `interesting_languages`."
   ]
  },
  {
   "cell_type": "code",
   "execution_count": 9,
   "metadata": {},
   "outputs": [
    {
     "data": {
      "text/plain": [
       "sql           182\n",
       "python        168\n",
       "r              48\n",
       "bash/shell     37\n",
       "javascript     33\n",
       "java           28\n",
       "html           26\n",
       "vba            18\n",
       "scala          17\n",
       "c#             17\n",
       "css            17\n",
       ".net           15\n",
       "php            10\n",
       "c++            10\n",
       "matlab          5\n",
       "go              5\n",
       "ruby            4\n",
       "abap            3\n",
       "c               3\n",
       "typescript      3\n",
       "kotlin          3\n",
       "ninguno         2\n",
       "dart            2\n",
       "dax             2\n",
       "qlik            2\n",
       "cobol           2\n",
       "mongodb         1\n",
       "perl            1\n",
       "m               1\n",
       "qvx             1\n",
       "Name: programming_language, dtype: int64"
      ]
     },
     "execution_count": 9,
     "metadata": {},
     "output_type": "execute_result"
    }
   ],
   "source": [
    "#Ahora veo cuáles son los lenguajes que más usa nuestro grupo de interés\n",
    "language_count = df_lang.programming_language.value_counts()\n",
    "language_count[:30]"
   ]
  },
  {
   "cell_type": "markdown",
   "metadata": {},
   "source": [
    "Los **3 lenguajes más utilizados** por este grupo coiniden con los que muchos blogs sobre actualidad y tecnología señalan como los más demandados para este perfil en particular, siendo Python es más utilizado.\n",
    "Por eso, vamos a quedarnos con estos tres lenguajes que consideraremos como lenguajes relevantes: **Python, R y sql**"
   ]
  },
  {
   "cell_type": "code",
   "execution_count": 10,
   "metadata": {
    "colab": {
     "base_uri": "https://localhost:8080/",
     "height": 223
    },
    "id": "DEpVptnLZUQU",
    "outputId": "dc2bdb53-1fe2-4f1d-b5ba-42a53efe6d4c",
    "scrolled": true
   },
   "outputs": [
    {
     "data": {
      "text/html": [
       "<div>\n",
       "<style scoped>\n",
       "    .dataframe tbody tr th:only-of-type {\n",
       "        vertical-align: middle;\n",
       "    }\n",
       "\n",
       "    .dataframe tbody tr th {\n",
       "        vertical-align: top;\n",
       "    }\n",
       "\n",
       "    .dataframe thead th {\n",
       "        text-align: right;\n",
       "    }\n",
       "</style>\n",
       "<table border=\"1\" class=\"dataframe\">\n",
       "  <thead>\n",
       "    <tr style=\"text-align: right;\">\n",
       "      <th></th>\n",
       "      <th>programming_language</th>\n",
       "      <th>tools_programming_languages</th>\n",
       "      <th>salary_monthly_NETO</th>\n",
       "      <th>work_role</th>\n",
       "      <th>cured_programming_languages</th>\n",
       "    </tr>\n",
       "  </thead>\n",
       "  <tbody>\n",
       "    <tr>\n",
       "      <th>19</th>\n",
       "      <td>python</td>\n",
       "      <td>Python, Scala, SQL</td>\n",
       "      <td>68000.0</td>\n",
       "      <td>Data Scientist / Data Engineer</td>\n",
       "      <td>[python, scala, sql]</td>\n",
       "    </tr>\n",
       "    <tr>\n",
       "      <th>19</th>\n",
       "      <td>sql</td>\n",
       "      <td>Python, Scala, SQL</td>\n",
       "      <td>68000.0</td>\n",
       "      <td>Data Scientist / Data Engineer</td>\n",
       "      <td>[python, scala, sql]</td>\n",
       "    </tr>\n",
       "    <tr>\n",
       "      <th>33</th>\n",
       "      <td>python</td>\n",
       "      <td>Bash/Shell, Python</td>\n",
       "      <td>168000.0</td>\n",
       "      <td>Data Scientist / Data Engineer</td>\n",
       "      <td>[bash/shell, python]</td>\n",
       "    </tr>\n",
       "    <tr>\n",
       "      <th>57</th>\n",
       "      <td>sql</td>\n",
       "      <td>SQL</td>\n",
       "      <td>75000.0</td>\n",
       "      <td>BI Analyst / Data Analyst</td>\n",
       "      <td>[sql]</td>\n",
       "    </tr>\n",
       "    <tr>\n",
       "      <th>82</th>\n",
       "      <td>python</td>\n",
       "      <td>Python, R, Qlik</td>\n",
       "      <td>34500.0</td>\n",
       "      <td>BI Analyst / Data Analyst</td>\n",
       "      <td>[python, r, qlik]</td>\n",
       "    </tr>\n",
       "  </tbody>\n",
       "</table>\n",
       "</div>"
      ],
      "text/plain": [
       "   programming_language tools_programming_languages  salary_monthly_NETO  \\\n",
       "19               python          Python, Scala, SQL              68000.0   \n",
       "19                  sql          Python, Scala, SQL              68000.0   \n",
       "33               python          Bash/Shell, Python             168000.0   \n",
       "57                  sql                         SQL              75000.0   \n",
       "82               python             Python, R, Qlik              34500.0   \n",
       "\n",
       "                         work_role cured_programming_languages  \n",
       "19  Data Scientist / Data Engineer        [python, scala, sql]  \n",
       "19  Data Scientist / Data Engineer        [python, scala, sql]  \n",
       "33  Data Scientist / Data Engineer        [bash/shell, python]  \n",
       "57       BI Analyst / Data Analyst                       [sql]  \n",
       "82       BI Analyst / Data Analyst           [python, r, qlik]  "
      ]
     },
     "execution_count": 10,
     "metadata": {},
     "output_type": "execute_result"
    }
   ],
   "source": [
    "# Filter out languages that we want to exclude\n",
    "# Complete here with your selected list.\n",
    "#voy a elegir los lenguajes más relevantes para este grupo. Los tres que se mencionan en varios artículos revisados,\n",
    "#son también los que tienen una frecuencia mayor en este grupo\n",
    "interesting_languages = [\"python\", \"r\", \"sql\"]\n",
    "df_curado = df_lang[df_lang.programming_language.isin(interesting_languages)]\n",
    "df_curado[:5]"
   ]
  },
  {
   "cell_type": "code",
   "execution_count": 11,
   "metadata": {},
   "outputs": [
    {
     "data": {
      "text/html": [
       "<div>\n",
       "<style scoped>\n",
       "    .dataframe tbody tr th:only-of-type {\n",
       "        vertical-align: middle;\n",
       "    }\n",
       "\n",
       "    .dataframe tbody tr th {\n",
       "        vertical-align: top;\n",
       "    }\n",
       "\n",
       "    .dataframe thead th {\n",
       "        text-align: right;\n",
       "    }\n",
       "</style>\n",
       "<table border=\"1\" class=\"dataframe\">\n",
       "  <thead>\n",
       "    <tr style=\"text-align: right;\">\n",
       "      <th>work_role</th>\n",
       "      <th>BI Analyst / Data Analyst</th>\n",
       "      <th>Data Scientist / Data Engineer</th>\n",
       "      <th>All</th>\n",
       "    </tr>\n",
       "    <tr>\n",
       "      <th>programming_language</th>\n",
       "      <th></th>\n",
       "      <th></th>\n",
       "      <th></th>\n",
       "    </tr>\n",
       "  </thead>\n",
       "  <tbody>\n",
       "    <tr>\n",
       "      <th>python</th>\n",
       "      <td>42</td>\n",
       "      <td>126</td>\n",
       "      <td>168</td>\n",
       "    </tr>\n",
       "    <tr>\n",
       "      <th>r</th>\n",
       "      <td>21</td>\n",
       "      <td>27</td>\n",
       "      <td>48</td>\n",
       "    </tr>\n",
       "    <tr>\n",
       "      <th>sql</th>\n",
       "      <td>95</td>\n",
       "      <td>87</td>\n",
       "      <td>182</td>\n",
       "    </tr>\n",
       "    <tr>\n",
       "      <th>All</th>\n",
       "      <td>158</td>\n",
       "      <td>240</td>\n",
       "      <td>398</td>\n",
       "    </tr>\n",
       "  </tbody>\n",
       "</table>\n",
       "</div>"
      ],
      "text/plain": [
       "work_role             BI Analyst / Data Analyst  \\\n",
       "programming_language                              \n",
       "python                                       42   \n",
       "r                                            21   \n",
       "sql                                          95   \n",
       "All                                         158   \n",
       "\n",
       "work_role             Data Scientist / Data Engineer  All  \n",
       "programming_language                                       \n",
       "python                                           126  168  \n",
       "r                                                 27   48  \n",
       "sql                                               87  182  \n",
       "All                                              240  398  "
      ]
     },
     "execution_count": 11,
     "metadata": {},
     "output_type": "execute_result"
    }
   ],
   "source": [
    "#Acá exploramos un poco más el lenguaje que usan según el rol que desempeñan. \n",
    "#tabla de frecuencias\n",
    "\n",
    "pd.crosstab(index=df_curado['programming_language'],\n",
    "            columns=df_curado['work_role'], margins=True)\n",
    "\n"
   ]
  },
  {
   "cell_type": "code",
   "execution_count": 12,
   "metadata": {},
   "outputs": [
    {
     "data": {
      "text/html": [
       "<div>\n",
       "<style scoped>\n",
       "    .dataframe tbody tr th:only-of-type {\n",
       "        vertical-align: middle;\n",
       "    }\n",
       "\n",
       "    .dataframe tbody tr th {\n",
       "        vertical-align: top;\n",
       "    }\n",
       "\n",
       "    .dataframe thead th {\n",
       "        text-align: right;\n",
       "    }\n",
       "</style>\n",
       "<table border=\"1\" class=\"dataframe\">\n",
       "  <thead>\n",
       "    <tr style=\"text-align: right;\">\n",
       "      <th>work_role</th>\n",
       "      <th>BI Analyst / Data Analyst</th>\n",
       "      <th>Data Scientist / Data Engineer</th>\n",
       "      <th>All</th>\n",
       "    </tr>\n",
       "    <tr>\n",
       "      <th>programming_language</th>\n",
       "      <th></th>\n",
       "      <th></th>\n",
       "      <th></th>\n",
       "    </tr>\n",
       "  </thead>\n",
       "  <tbody>\n",
       "    <tr>\n",
       "      <th>python</th>\n",
       "      <td>13.291139</td>\n",
       "      <td>26.250</td>\n",
       "      <td>21.105528</td>\n",
       "    </tr>\n",
       "    <tr>\n",
       "      <th>r</th>\n",
       "      <td>6.645570</td>\n",
       "      <td>5.625</td>\n",
       "      <td>6.030151</td>\n",
       "    </tr>\n",
       "    <tr>\n",
       "      <th>sql</th>\n",
       "      <td>30.063291</td>\n",
       "      <td>18.125</td>\n",
       "      <td>22.864322</td>\n",
       "    </tr>\n",
       "    <tr>\n",
       "      <th>All</th>\n",
       "      <td>50.000000</td>\n",
       "      <td>50.000</td>\n",
       "      <td>50.000000</td>\n",
       "    </tr>\n",
       "  </tbody>\n",
       "</table>\n",
       "</div>"
      ],
      "text/plain": [
       "work_role             BI Analyst / Data Analyst  \\\n",
       "programming_language                              \n",
       "python                                13.291139   \n",
       "r                                      6.645570   \n",
       "sql                                   30.063291   \n",
       "All                                   50.000000   \n",
       "\n",
       "work_role             Data Scientist / Data Engineer        All  \n",
       "programming_language                                             \n",
       "python                                        26.250  21.105528  \n",
       "r                                              5.625   6.030151  \n",
       "sql                                           18.125  22.864322  \n",
       "All                                           50.000  50.000000  "
      ]
     },
     "execution_count": 12,
     "metadata": {},
     "output_type": "execute_result"
    }
   ],
   "source": [
    "#o se puede ver la tabla de frecuencias relativas en función del total que se dedican a cada rol.\n",
    "\n",
    "#vemos que \"BI Analyst / Data Analyst\" usan más Sql y los \"Data Scientist / Data Engineer\" usan más Python. \n",
    "\n",
    "pd.crosstab(index=df_curado['programming_language'],\n",
    "            columns=df_curado['work_role'], margins=True).apply(lambda r: r/r.sum() *100,\n",
    "                                axis=0)"
   ]
  },
  {
   "cell_type": "code",
   "execution_count": 13,
   "metadata": {},
   "outputs": [
    {
     "data": {
      "image/png": "[encoded data removed]",
      "text/plain": [
       "<Figure size 864x432 with 1 Axes>"
      ]
     },
     "metadata": {
      "needs_background": "light"
     },
     "output_type": "display_data"
    }
   ],
   "source": [
    "#hacemos una primera exploración sobre la distribución del salario en cada uno de los tres grupos.\n",
    "#Esta nos va a servir para identificar si hay outliers. \n",
    "plt.figure(figsize=(12, 6))\n",
    "seaborn.boxplot(data=df_curado, x=df_curado.salary_monthly_NETO, y=df_curado.programming_language,\n",
    "                color='orangered')\n",
    "plt.ticklabel_format(style='plain', axis='x')"
   ]
  },
  {
   "cell_type": "markdown",
   "metadata": {},
   "source": [
    "Efectivamente encontramos que, por encima de los 400 mil pesos hay varios casos atípicos. También tenemos algunos casos atípicos muy cerca del cero, así que tendremos que tomar decisiones sobre qué hacer con ellos.\n",
    "\n",
    "También, empezamos a observar uno de los problemas que tiene nuestro df: debido a que algunas personas programan en más de un lenguaje, hay casos siendo contabilizados en más de un grupo, de hecho **¿no es llamativo que haya un outlier ubicado en exactamente la misma posición en términos de su salario en los tres grupos?**\n",
    "\n",
    "Esto es importante porque nuestras conclusiones tienen que ser cautelosas, sobre todo si no encontramos diferencias entre los grupos. Una hipótesis alternativa es que no sea el lenguaje en sí el que se asocia al salario, sino la cantidad de lenguajes que una persona maneja. **pero eso lo dejamos para otro práctico**\n",
    "\n",
    "Para aislar la relación de salario con lenguaje deberíamos trabajar **solo con los casos que usan UN SOLO lenguaje**. En nuestro grupo eso no es posible, dado que nos dejaría con pocos casos. \n",
    "\n",
    "Así que avanzamos, interpretamos con cautela y vemos a dónde nos lleva....  "
   ]
  },
  {
   "cell_type": "code",
   "execution_count": 14,
   "metadata": {},
   "outputs": [
    {
     "name": "stdout",
     "output_type": "stream",
     "text": [
      "350000.0\n"
     ]
    }
   ],
   "source": [
    "#Acá vamos a filtrar los outliers.\n",
    "#para el límite superior seguimos un criterio estadístico y quitamos aquellos casos que están por encima del percentil .98\n",
    "#en este caso, el percentil 98 es 350000\n",
    "max_limit = df_curado[\"salary_monthly_NETO\"].quantile(.98)\n",
    "print(max_limit)"
   ]
  },
  {
   "cell_type": "code",
   "execution_count": 15,
   "metadata": {},
   "outputs": [
    {
     "name": "stdout",
     "output_type": "stream",
     "text": [
      "10000\n"
     ]
    },
    {
     "data": {
      "text/plain": [
       "[39.5,\n",
       " 43.392,\n",
       " 64.0,\n",
       " 64.0,\n",
       " 64.0,\n",
       " 67.0,\n",
       " 69.0,\n",
       " 69.0,\n",
       " 87.0,\n",
       " 87.0,\n",
       " 185.0,\n",
       " 185.0,\n",
       " 185.0,\n",
       " 3800.0,\n",
       " 10700.0]"
      ]
     },
     "execution_count": 15,
     "metadata": {},
     "output_type": "execute_result"
    }
   ],
   "source": [
    "# Para el caso de los outilers por debajo, si seguíamos el mismo criterio podíamos estar eliminando casos de personas que efectivamente\n",
    "#cobren mcarcadamente menos (por ser un trabajo a tiempo parcial, freelance, etc).\n",
    "#el criterio seguido fue eliminar aquellos casos que solo pueden ser interpretados como errores de carga.\n",
    "#vemos que hay 14 casos que tienen un salario igual o menos a 1000 pesos y son los que serán removidos en próximos análisis\n",
    "min_limit = 10000\n",
    "print(min_limit)\n",
    "salary = df_curado.sort_values(\"salary_monthly_NETO\")\n",
    "list(salary.salary_monthly_NETO.head(15))"
   ]
  },
  {
   "cell_type": "code",
   "execution_count": 16,
   "metadata": {},
   "outputs": [
    {
     "data": {
      "text/html": [
       "<div>\n",
       "<style scoped>\n",
       "    .dataframe tbody tr th:only-of-type {\n",
       "        vertical-align: middle;\n",
       "    }\n",
       "\n",
       "    .dataframe tbody tr th {\n",
       "        vertical-align: top;\n",
       "    }\n",
       "\n",
       "    .dataframe thead th {\n",
       "        text-align: right;\n",
       "    }\n",
       "</style>\n",
       "<table border=\"1\" class=\"dataframe\">\n",
       "  <thead>\n",
       "    <tr style=\"text-align: right;\">\n",
       "      <th></th>\n",
       "      <th>programming_language</th>\n",
       "      <th>tools_programming_languages</th>\n",
       "      <th>salary_monthly_NETO</th>\n",
       "      <th>work_role</th>\n",
       "      <th>cured_programming_languages</th>\n",
       "    </tr>\n",
       "  </thead>\n",
       "  <tbody>\n",
       "    <tr>\n",
       "      <th>19</th>\n",
       "      <td>python</td>\n",
       "      <td>Python, Scala, SQL</td>\n",
       "      <td>68000.0</td>\n",
       "      <td>Data Scientist / Data Engineer</td>\n",
       "      <td>[python, scala, sql]</td>\n",
       "    </tr>\n",
       "    <tr>\n",
       "      <th>19</th>\n",
       "      <td>sql</td>\n",
       "      <td>Python, Scala, SQL</td>\n",
       "      <td>68000.0</td>\n",
       "      <td>Data Scientist / Data Engineer</td>\n",
       "      <td>[python, scala, sql]</td>\n",
       "    </tr>\n",
       "    <tr>\n",
       "      <th>33</th>\n",
       "      <td>python</td>\n",
       "      <td>Bash/Shell, Python</td>\n",
       "      <td>168000.0</td>\n",
       "      <td>Data Scientist / Data Engineer</td>\n",
       "      <td>[bash/shell, python]</td>\n",
       "    </tr>\n",
       "    <tr>\n",
       "      <th>57</th>\n",
       "      <td>sql</td>\n",
       "      <td>SQL</td>\n",
       "      <td>75000.0</td>\n",
       "      <td>BI Analyst / Data Analyst</td>\n",
       "      <td>[sql]</td>\n",
       "    </tr>\n",
       "    <tr>\n",
       "      <th>82</th>\n",
       "      <td>python</td>\n",
       "      <td>Python, R, Qlik</td>\n",
       "      <td>34500.0</td>\n",
       "      <td>BI Analyst / Data Analyst</td>\n",
       "      <td>[python, r, qlik]</td>\n",
       "    </tr>\n",
       "    <tr>\n",
       "      <th>82</th>\n",
       "      <td>r</td>\n",
       "      <td>Python, R, Qlik</td>\n",
       "      <td>34500.0</td>\n",
       "      <td>BI Analyst / Data Analyst</td>\n",
       "      <td>[python, r, qlik]</td>\n",
       "    </tr>\n",
       "    <tr>\n",
       "      <th>209</th>\n",
       "      <td>sql</td>\n",
       "      <td>SQL</td>\n",
       "      <td>68000.0</td>\n",
       "      <td>BI Analyst / Data Analyst</td>\n",
       "      <td>[sql]</td>\n",
       "    </tr>\n",
       "    <tr>\n",
       "      <th>274</th>\n",
       "      <td>sql</td>\n",
       "      <td>C++, Java, SQL</td>\n",
       "      <td>34500.0</td>\n",
       "      <td>BI Analyst / Data Analyst</td>\n",
       "      <td>[c++, java, sql]</td>\n",
       "    </tr>\n",
       "    <tr>\n",
       "      <th>308</th>\n",
       "      <td>python</td>\n",
       "      <td>Bash/Shell, Python, SQL</td>\n",
       "      <td>103330.0</td>\n",
       "      <td>Data Scientist / Data Engineer</td>\n",
       "      <td>[bash/shell, python, sql]</td>\n",
       "    </tr>\n",
       "    <tr>\n",
       "      <th>308</th>\n",
       "      <td>sql</td>\n",
       "      <td>Bash/Shell, Python, SQL</td>\n",
       "      <td>103330.0</td>\n",
       "      <td>Data Scientist / Data Engineer</td>\n",
       "      <td>[bash/shell, python, sql]</td>\n",
       "    </tr>\n",
       "  </tbody>\n",
       "</table>\n",
       "</div>"
      ],
      "text/plain": [
       "    programming_language tools_programming_languages  salary_monthly_NETO  \\\n",
       "19                python          Python, Scala, SQL              68000.0   \n",
       "19                   sql          Python, Scala, SQL              68000.0   \n",
       "33                python          Bash/Shell, Python             168000.0   \n",
       "57                   sql                         SQL              75000.0   \n",
       "82                python             Python, R, Qlik              34500.0   \n",
       "82                     r             Python, R, Qlik              34500.0   \n",
       "209                  sql                         SQL              68000.0   \n",
       "274                  sql              C++, Java, SQL              34500.0   \n",
       "308               python     Bash/Shell, Python, SQL             103330.0   \n",
       "308                  sql     Bash/Shell, Python, SQL             103330.0   \n",
       "\n",
       "                          work_role cured_programming_languages  \n",
       "19   Data Scientist / Data Engineer        [python, scala, sql]  \n",
       "19   Data Scientist / Data Engineer        [python, scala, sql]  \n",
       "33   Data Scientist / Data Engineer        [bash/shell, python]  \n",
       "57        BI Analyst / Data Analyst                       [sql]  \n",
       "82        BI Analyst / Data Analyst           [python, r, qlik]  \n",
       "82        BI Analyst / Data Analyst           [python, r, qlik]  \n",
       "209       BI Analyst / Data Analyst                       [sql]  \n",
       "274       BI Analyst / Data Analyst            [c++, java, sql]  \n",
       "308  Data Scientist / Data Engineer   [bash/shell, python, sql]  \n",
       "308  Data Scientist / Data Engineer   [bash/shell, python, sql]  "
      ]
     },
     "execution_count": 16,
     "metadata": {},
     "output_type": "execute_result"
    }
   ],
   "source": [
    "#aquí nuestro df filtrado, sin outilers\n",
    "df_curado2 = df_curado[(df_curado[\"salary_monthly_NETO\"]<=max_limit) & (df_curado[\"salary_monthly_NETO\"]>=min_limit)]\n",
    "df_curado2[:10]"
   ]
  },
  {
   "cell_type": "code",
   "execution_count": 17,
   "metadata": {},
   "outputs": [
    {
     "data": {
      "image/png": "[encoded data removed]",
      "text/plain": [
       "<Figure size 864x432 with 1 Axes>"
      ]
     },
     "metadata": {
      "needs_background": "light"
     },
     "output_type": "display_data"
    }
   ],
   "source": [
    "plt.figure(figsize=(12, 6))\n",
    "seaborn.boxplot(data=df_curado2, x=df_curado2.salary_monthly_NETO, y=df_curado2.programming_language,\n",
    "                color='orangered')\n",
    "plt.ticklabel_format(style='plain', axis='x')"
   ]
  },
  {
   "cell_type": "markdown",
   "metadata": {},
   "source": [
    "En el plot anterior podemos ver todavía algunos **casos atípicos**, pero no podemos suponer que estos no sean casos válidos, es muy posible que algunas personas tengan salarios en esos valores y, eliminarlos, atentaría justamente contra nuestro objetivo.\n",
    "\n",
    "Las diferencias observadas en este gráfico **parecen pequeñas** \n",
    "\n",
    "La **media de salario neto de las personas que programan en R es ligeramente superior** a la de los otros dos lenguajes y, además, la dispersión relativamente mayor. Esta dispersión **se puede ver afectada por el tamaño del grupo más pequeño**, lo cual también podría ser responsable de que el peso de los outliers sobre la media sea mayor. \n",
    "\n",
    "\n",
    "Por eso, **es necesario seguir explorando la distribución de estos datos**. "
   ]
  },
  {
   "cell_type": "code",
   "execution_count": 18,
   "metadata": {},
   "outputs": [
    {
     "data": {
      "image/png": "[encoded data removed]",
      "text/plain": [
       "<Figure size 576x288 with 1 Axes>"
      ]
     },
     "metadata": {
      "needs_background": "light"
     },
     "output_type": "display_data"
    }
   ],
   "source": [
    "#esta forma de visiualización nos permite ver mejor la densidad de casos en cada valor y notar también el tamaño diferente de los grupos\n",
    "\n",
    "seaborn.catplot(data=df_curado2, y='salary_monthly_NETO',\n",
    "                x='programming_language', height=4, aspect=2)\n",
    "seaborn.despine()"
   ]
  },
  {
   "cell_type": "markdown",
   "metadata": {},
   "source": [
    "### ¿Cómo podemos visualizar mejor la distribución de los salarios en cada grupo?\n",
    "\n",
    "Vamos a hacer dos cosas:\n",
    " - Vamos a graficar las distribuciones incluyendo la media y la mediana para cada grupo\n",
    " - Vamos a superponer esas distribuciones en un mismo gráfico para identificar las diferencias\n"
   ]
  },
  {
   "cell_type": "code",
   "execution_count": 31,
   "metadata": {
    "scrolled": true
   },
   "outputs": [
    {
     "data": {
      "image/png": "[encoded data removed]",
      "text/plain": [
       "<Figure size 900x1080 with 3 Axes>"
      ]
     },
     "metadata": {},
     "output_type": "display_data"
    }
   ],
   "source": [
    "seaborn.set(style=\"darkgrid\")\n",
    "g =seaborn.displot(\n",
    "    df_curado2, x=\"salary_monthly_NETO\", row=\"programming_language\", aspect=2.5, kde=True\n",
    ")\n",
    "g.set_axis_labels(\"Salario Mensual Neto\", \"Frecuencia\")\n",
    "g.set_titles(row_template=\"Lenguaje de programación: {row_name}\")\n",
    "\n",
    "\n",
    "df_curado2_py = df_curado2[df_curado2['programming_language']=='python']\n",
    "df_curado2_sql = df_curado2[df_curado2['programming_language']=='sql']\n",
    "df_curado2_r = df_curado2[df_curado2['programming_language']=='r']\n",
    "means = {'python':df_curado2_py.salary_monthly_NETO.mean(),\n",
    "         'sql':df_curado2_sql.salary_monthly_NETO.mean(),\n",
    "         'r':df_curado2_r.salary_monthly_NETO.mean()}\n",
    "medians = {'python':df_curado2_py.salary_monthly_NETO.median(),\n",
    "           'sql':df_curado2_sql.salary_monthly_NETO.median(),\n",
    "           'r':df_curado2_r.salary_monthly_NETO.median()}\n",
    "\n",
    "for row_val, ax in g.axes_dict.items():\n",
    "    ax.axvline(means[row_val], color='orangered', linestyle='--', label='Media')\n",
    "    ax.axvline(medians[row_val], color='indigo', linestyle='-.', label='Mediana')\n",
    "    ax.legend()\n",
    "\n"
   ]
  },
  {
   "cell_type": "markdown",
   "metadata": {},
   "source": [
    "Efectivamente, **las medidas de tendencia central de los grupos que programan en Python y en SQL son similares** y, en alguna medida, también lo son sus distribuciones. \n",
    "\n",
    "Sin embargo, el grupo que **programa en python tiene una mayor concentración de casos alrededor de la media**, mientras que el grupo que **programa en Sql muestra una mayor asimetría positiva**. \n",
    "\n",
    "Por su parte, **el grupo que programa en R es efectivamente el que muestra mayor dispersión en los datos**, pero casi no tiene casos en los segmentos de menor salario y, además de tener una media y una mediana más alta, **es el que tiene mayor cantidad de casos en niveles de salario superiores a 200 mil**. \n",
    "\n",
    "\n",
    "En principio -si bien es poco probable para la muestra en general- **parece más probable ganar más de 200 mil pesos si programas en R** que si programas en cualquiera de los otros dos lenguajes. "
   ]
  },
  {
   "cell_type": "markdown",
   "metadata": {},
   "source": [
    "### GRÁFICO DE DENSIDAD\n",
    "\n",
    "Para contrastar las 3 distribuciones elegimos un gráficos de densidad porque **permite visualizar mejor la distribución de los datos**, siendo menos afectada por la cantidad de bins como sucede con el histograma. \n",
    "\n",
    "Además, configuramos **\"common_norm=False\"** porque tenemos **grupos de tamaños muy desiguales** y si se escalara cada densidad condicional por el número de observadiones de modo tal que todas las densidades en conjunto sumaran 1, nos costaría interpretar las diferencias. De este modo, **el área debajo de cada densidad (para cada grupo) suma 1**, de modo que se normaliza cada densidad de modo independiente. \n"
   ]
  },
  {
   "cell_type": "code",
   "execution_count": 32,
   "metadata": {},
   "outputs": [
    {
     "data": {
      "image/png": "[encoded data removed]",
      "text/plain": [
       "<Figure size 432x288 with 1 Axes>"
      ]
     },
     "metadata": {},
     "output_type": "display_data"
    }
   ],
   "source": [
    "#ATENCIÓN: NOTA PARA NOSOTRES. Cambié el gráfico usando una sola línea de código, porque de otro modo no podría poner la leyenda\n",
    "seaborn.set(style=\"darkgrid\")\n",
    "\n",
    "seaborn.kdeplot(data=df_curado2, x=\"salary_monthly_NETO\", hue=\"programming_language\", common_norm=False, shade=True)\n",
    "seaborn.despine()"
   ]
  },
  {
   "cell_type": "markdown",
   "metadata": {},
   "source": [
    "### CONCLUSIONES\n",
    "\n",
    "Aun teniendo en cuenta que las mismas personas pueden estar formando parte de más de un grupo, encontrar diferencias entre estos puede ser importante: **si el grupo de personas que programa en R tiene mayor densidad en el extremo superior de la escala de salario, no es posible que -además- programaran en los otros dos lenguajes (sino todas las colas se parecerían)**.\n",
    "\n",
    "**Si bien las diferencias no son enormes, son atendibles**... quizás sea interesante estudiar de qué va R.\n",
    "\n",
    "Un dato adicional, **las y los cientitas de datos ganan un poquito más que el promedio de toda la muestra**, ¿sorprendente no?\n",
    "\n",
    "¿Cómo lo sabemos? Hicismos el siguiente análisis..."
   ]
  },
  {
   "cell_type": "code",
   "execution_count": 21,
   "metadata": {},
   "outputs": [
    {
     "data": {
      "text/plain": [
       "(98064.35896654276, 94907.9491018188)"
      ]
     },
     "execution_count": 21,
     "metadata": {},
     "output_type": "execute_result"
    }
   ],
   "source": [
    "salary_analistas = df_role.salary_monthly_NETO\n",
    "avg_salary_analistas = salary_analistas.mean()\n",
    "\n",
    "salary_all = df.salary_monthly_NETO\n",
    "avg_salary_all = salary_all.mean()\n",
    "avg_salary_analistas, avg_salary_all"
   ]
  },
  {
   "cell_type": "markdown",
   "metadata": {},
   "source": [
    "**La diferencia es pequeña pero pronto podremos hacer prueba de diferencias de medias para ver si es suficiente como para considerarla significativa**. "
   ]
  },
  {
   "cell_type": "markdown",
   "metadata": {
    "id": "tWo8SmmC9FAk"
   },
   "source": [
    "# Ejercicio 2 - Densidades y varias varialbes\n",
    "\n",
    "Responder a la pregunta general: **¿Que herramientas (prácticas y teóricas) són útiles para explorar la base, descubrir patrones, asociaciones?**\n",
    "\n",
    "Para ello considere (igual al ejercicio Anterior):\n",
    "1. Seleccionar las columnas relevantes para analizar.\n",
    "2. Seleccionar las filas relevantes para analizar. Esto incluye la eliminación de valores extremos y erróneos, pero también puede enfocar el análisis en sub-poblaciones. "
   ]
  },
  {
   "cell_type": "markdown",
   "metadata": {
    "id": "5baYhH0XHM3S"
   },
   "source": [
    "## a) Densidad conjunta\n",
    "\n",
    "Que herramientas visuales y modelos puede utilizar para estudiar la distribución y comportamiento de sus datos? \n",
    "\n",
    "Elija tres variables numéricas y 2 variables categóricas. Visualice la base según varias de las variables elegidas. Puede describir de alguna forma el comportamiento de sus datos? Que herramientas utilizaría? Describa\n",
    "\n",
    "\n"
   ]
  },
  {
   "cell_type": "code",
   "execution_count": 22,
   "metadata": {},
   "outputs": [],
   "source": [
    "#categorica: genero y violencia\n",
    "#nuerica: salario neto, personas a cargo, años de experiencia"
   ]
  },
  {
   "cell_type": "markdown",
   "metadata": {
    "id": "lkuHE2aZGHMO"
   },
   "source": [
    "## b) Asociación\n",
    "\n",
    "* Necesitamos decidir si sacar o no la columna de salario bruto. Para hacer la encuesta más simple.\n",
    "¿Existe una correlación entre el salario bruto y el neto? Que abordaje y medidas usaría\n",
    "\n"
   ]
  },
  {
   "cell_type": "markdown",
   "metadata": {
    "id": "7MZrbRJCm-ae"
   },
   "source": [
    "## c) Densidad condicional \n",
    "\n",
    "Estudie la distribución del salario según el nivel de estudio.\n",
    "\n",
    "Separe la población según el nivel de estudio (elija dos subpoblaciones numerosas) y grafique de manera comparativa ambos histogramas de la variable `'salary_monthly_NETO'`\n",
    "¿Considera que ambas variables son independientes?\n",
    "¿Qué analizaría al respecto?\n",
    "\n",
    "Calcule medidas de centralización y dispersión para cada subpoblación\n",
    "\n",
    "\n",
    "\n",
    "\n"
   ]
  },
  {
   "cell_type": "code",
   "execution_count": 23,
   "metadata": {},
   "outputs": [],
   "source": [
    "# Cargamos de nuevo el dataset completo\n",
    "url = 'https://cs.famaf.unc.edu.ar/~mteruel/datasets/diplodatos/sysarmy_survey_2020_processed.csv'\n",
    "df = pd.read_csv(url)"
   ]
  },
  {
   "cell_type": "code",
   "execution_count": 24,
   "metadata": {
    "scrolled": true
   },
   "outputs": [
    {
     "name": "stdout",
     "output_type": "stream",
     "text": [
      "Cantidad de gente con nivel universitario completo: 1616\n",
      "Cantidad de gente con nivel universitario incompleto o en curso: 2517\n"
     ]
    }
   ],
   "source": [
    "# Elegimos como subpoblaciones las personas con nivel universitario completo  y con nivel universitario incompleto o en curso (vamos a considerar ambos como incompleto)\n",
    "# Chequeamos que son suficientemente numerosas como para que tenga sentido el analisis\n",
    "df_univ_complete = df[(df['profile_studies_level']=='Universitario') & (df['profile_studies_level_state']=='Completado')]\n",
    "print('Cantidad de gente con nivel universitario completo:', len(df_univ_complete))\n",
    "df_univ_incomplete = df[(df['profile_studies_level']=='Universitario') & ((df['profile_studies_level_state']=='Incompleto') | (df['profile_studies_level_state']=='En curso'))]\n",
    "print('Cantidad de gente con nivel universitario incompleto o en curso:', len(df_univ_incomplete))"
   ]
  },
  {
   "cell_type": "code",
   "execution_count": 25,
   "metadata": {},
   "outputs": [
    {
     "name": "stdout",
     "output_type": "stream",
     "text": [
      "Cantidad de gente con nivel universitario completo que puso su salario neto: 1568\n",
      "Cantidad de gente con nivel universitario incompleto que puso su salario neto: 2423\n"
     ]
    }
   ],
   "source": [
    "# Para graficar los histogramas eliminamos las filas que tengan valor NaN en la columna 'salary_monthly_NETO', \n",
    "#ya que no aportan informacion sobre lo que queremos analizar y producen error al intentar graficar\n",
    "# Y para filtrar los outliers, como hicimos en el ejercicio 1, quitamos aquellos casos que están por encima del percentil .98 y por abajo de los 10000 pesos\n",
    "\n",
    "df_univ_complete = df_univ_complete.dropna(subset=['salary_monthly_NETO'])\n",
    "print('Cantidad de gente con nivel universitario completo que puso su salario neto:', len(df_univ_complete))\n",
    "df_univ_incomplete = df_univ_incomplete.dropna(subset=['salary_monthly_NETO'])\n",
    "print('Cantidad de gente con nivel universitario incompleto que puso su salario neto:', len(df_univ_incomplete))\n",
    "\n",
    "min_limit = 10000\n",
    "max_limit_complete = df_univ_complete[\"salary_monthly_NETO\"].quantile(.98)\n",
    "#print(max_limit_complete)\n",
    "max_limit_incomplete = df_univ_incomplete[\"salary_monthly_NETO\"].quantile(.98)\n",
    "#print(max_limit_incomplete)\n"
   ]
  },
  {
   "cell_type": "code",
   "execution_count": 26,
   "metadata": {
    "scrolled": true
   },
   "outputs": [
    {
     "name": "stdout",
     "output_type": "stream",
     "text": [
      "Medias {'Completado': 100680.84895973153, 'Incompleto': 82903.34222996517}\n",
      "Medianas {'Completado': 89894.0, 'Incompleto': 75000.0}\n"
     ]
    },
    {
     "data": {
      "image/png": "[encoded data removed]",
      "text/plain": [
       "<Figure size 1080x360 with 2 Axes>"
      ]
     },
     "metadata": {},
     "output_type": "display_data"
    }
   ],
   "source": [
    "df_univ_complete_filtered = df_univ_complete[(df_univ_complete[\"salary_monthly_NETO\"]<=max_limit_complete) & (df_univ_complete[\"salary_monthly_NETO\"]>=min_limit)]\n",
    "df_univ_incomplete_filtered = df_univ_incomplete[(df_univ_incomplete[\"salary_monthly_NETO\"]<=max_limit_incomplete) & (df_univ_incomplete[\"salary_monthly_NETO\"]>=min_limit)]\n",
    "df_univ_incomplete_filtered2 = df_univ_incomplete_filtered.assign(profile_studies_level_state = 'Incompleto')\n",
    "\n",
    "data = pd.concat([df_univ_complete_filtered,df_univ_incomplete_filtered2])\n",
    "h = seaborn.displot(data, x=\"salary_monthly_NETO\", col='profile_studies_level_state',aspect=1.5, kde=True)\n",
    "\n",
    "h.set_axis_labels(\"Salario Mensual Neto\", \"Frecuencia\")\n",
    "h.set_titles(\"Estudios Universitarios {col_name}\")\n",
    "\n",
    "\n",
    "means = {'Completado':df_univ_complete_filtered.salary_monthly_NETO.mean(),\n",
    "         'Incompleto':df_univ_incomplete_filtered2.salary_monthly_NETO.mean()}\n",
    "medians = {'Completado':df_univ_complete_filtered.salary_monthly_NETO.median(),\n",
    "           'Incompleto':df_univ_incomplete_filtered2.salary_monthly_NETO.median()}\n",
    "print('Medias', means)\n",
    "print('Medianas', medians)\n",
    "\n",
    "for col_val, ax in h.axes_dict.items():\n",
    "    ax.axvline(means[col_val], color='orangered', linestyle='--', label='Media')\n",
    "    ax.axvline(medians[col_val], color='indigo', linestyle='-.', label='Mediana')\n",
    "    ax.legend()\n",
    "\n",
    "\n",
    "seaborn.despine()\n"
   ]
  },
  {
   "cell_type": "code",
   "execution_count": 27,
   "metadata": {
    "scrolled": true
   },
   "outputs": [
    {
     "data": {
      "text/html": [
       "<div>\n",
       "<style scoped>\n",
       "    .dataframe tbody tr th:only-of-type {\n",
       "        vertical-align: middle;\n",
       "    }\n",
       "\n",
       "    .dataframe tbody tr th {\n",
       "        vertical-align: top;\n",
       "    }\n",
       "\n",
       "    .dataframe thead th {\n",
       "        text-align: right;\n",
       "    }\n",
       "</style>\n",
       "<table border=\"1\" class=\"dataframe\">\n",
       "  <thead>\n",
       "    <tr style=\"text-align: right;\">\n",
       "      <th></th>\n",
       "      <th>Universitario Completo</th>\n",
       "      <th>Universitario Incompleto</th>\n",
       "    </tr>\n",
       "  </thead>\n",
       "  <tbody>\n",
       "    <tr>\n",
       "      <th>count</th>\n",
       "      <td>1490.0</td>\n",
       "      <td>2296.0</td>\n",
       "    </tr>\n",
       "    <tr>\n",
       "      <th>mean</th>\n",
       "      <td>100681.0</td>\n",
       "      <td>82903.0</td>\n",
       "    </tr>\n",
       "    <tr>\n",
       "      <th>std</th>\n",
       "      <td>57137.0</td>\n",
       "      <td>49795.0</td>\n",
       "    </tr>\n",
       "    <tr>\n",
       "      <th>min</th>\n",
       "      <td>10000.0</td>\n",
       "      <td>11300.0</td>\n",
       "    </tr>\n",
       "    <tr>\n",
       "      <th>25%</th>\n",
       "      <td>65000.0</td>\n",
       "      <td>50000.0</td>\n",
       "    </tr>\n",
       "    <tr>\n",
       "      <th>50%</th>\n",
       "      <td>89894.0</td>\n",
       "      <td>75000.0</td>\n",
       "    </tr>\n",
       "    <tr>\n",
       "      <th>75%</th>\n",
       "      <td>117000.0</td>\n",
       "      <td>100000.0</td>\n",
       "    </tr>\n",
       "    <tr>\n",
       "      <th>max</th>\n",
       "      <td>394375.0</td>\n",
       "      <td>370000.0</td>\n",
       "    </tr>\n",
       "  </tbody>\n",
       "</table>\n",
       "</div>"
      ],
      "text/plain": [
       "       Universitario Completo  Universitario Incompleto\n",
       "count                  1490.0                    2296.0\n",
       "mean                 100681.0                   82903.0\n",
       "std                   57137.0                   49795.0\n",
       "min                   10000.0                   11300.0\n",
       "25%                   65000.0                   50000.0\n",
       "50%                   89894.0                   75000.0\n",
       "75%                  117000.0                  100000.0\n",
       "max                  394375.0                  370000.0"
      ]
     },
     "execution_count": 27,
     "metadata": {},
     "output_type": "execute_result"
    }
   ],
   "source": [
    "# Calculamos las medidas de centralización y dispersión para cada subpoblación\n",
    "df1 = df_univ_complete_filtered[['salary_monthly_NETO']].describe().round()\n",
    "df1 = df1.rename(columns={'salary_monthly_NETO':'Universitario Completo'})\n",
    "\n",
    "df2 = df_univ_incomplete_filtered2[['salary_monthly_NETO']].describe().round()\n",
    "df2 = df2.rename(columns={'salary_monthly_NETO':'Universitario Incompleto'})\n",
    "\n",
    "description = pd.concat([df1,df2], axis=1)\n",
    "description"
   ]
  },
  {
   "cell_type": "code",
   "execution_count": 28,
   "metadata": {
    "scrolled": true
   },
   "outputs": [
    {
     "name": "stdout",
     "output_type": "stream",
     "text": [
      "Coeficiente de variación salario universitario completo 0.567312096882781\n",
      "Coeficiente de variación salario universitario incompleto 0.6005053186271528\n"
     ]
    }
   ],
   "source": [
    "# Calculamos tambien el coeficiente de variación para comparar mejor la dispersion\n",
    "\n",
    "import scipy\n",
    "\n",
    "print(\"Coeficiente de variación salario universitario completo\",\n",
    "      scipy.stats.variation(df_univ_complete_filtered.salary_monthly_NETO))\n",
    "print(\"Coeficiente de variación salario universitario incompleto\",\n",
    "      scipy.stats.variation(df_univ_incomplete_filtered2.salary_monthly_NETO))"
   ]
  },
  {
   "cell_type": "code",
   "execution_count": 29,
   "metadata": {},
   "outputs": [],
   "source": [
    "# Independencia"
   ]
  },
  {
   "cell_type": "markdown",
   "metadata": {
    "id": "u8wgYxNiqVpE"
   },
   "source": [
    "## d) Densidad Conjunta condicional\n",
    "\n",
    "Elija dos variables numéricas y una categórica. \n",
    "Estudie la dispersión (scatterplot) de las dos variables discriminando en color por la variable categórica (ayuda: hue en seaborn)\n"
   ]
  },
  {
   "cell_type": "code",
   "execution_count": 30,
   "metadata": {},
   "outputs": [],
   "source": [
    "#categorica: genero\n",
    "#numerica: personas a cargo, años de experiencia"
   ]
  }
 ],
 "metadata": {
  "colab": {
   "collapsed_sections": [],
   "include_colab_link": true,
   "name": "Entregable - Parte 1.ipynb",
   "provenance": [],
   "toc_visible": true
  },
  "kernelspec": {
   "display_name": "Python 3",
   "language": "python",
   "name": "python3"
  },
  "language_info": {
   "codemirror_mode": {
    "name": "ipython",
    "version": 3
   },
   "file_extension": ".py",
   "mimetype": "text/x-python",
   "name": "python",
   "nbconvert_exporter": "python",
   "pygments_lexer": "ipython3",
   "version": "3.7.3"
  }
 },
 "nbformat": 4,
 "nbformat_minor": 1
}
